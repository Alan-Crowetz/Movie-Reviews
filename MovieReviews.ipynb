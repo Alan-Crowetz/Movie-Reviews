{
  "nbformat": 4,
  "nbformat_minor": 0,
  "metadata": {
    "kernelspec": {
      "display_name": "Python 3",
      "language": "python",
      "name": "python3"
    },
    "language_info": {
      "codemirror_mode": {
        "name": "ipython",
        "version": 3
      },
      "file_extension": ".py",
      "mimetype": "text/x-python",
      "name": "python",
      "nbconvert_exporter": "python",
      "pygments_lexer": "ipython3",
      "version": "3.8.5"
    },
    "colab": {
      "name": "MovieReviews.ipynb",
      "provenance": [],
      "collapsed_sections": [],
      "include_colab_link": true
    }
  },
  "cells": [
    {
      "cell_type": "markdown",
      "metadata": {
        "id": "view-in-github",
        "colab_type": "text"
      },
      "source": [
        "<a href=\"https://colab.research.google.com/github/Alan-Crowetz/Movie-Reviews/blob/main/MovieReviews.ipynb\" target=\"_parent\"><img src=\"https://colab.research.google.com/assets/colab-badge.svg\" alt=\"Open In Colab\"/></a>"
      ]
    },
    {
      "cell_type": "markdown",
      "metadata": {
        "id": "JwqJ_1ufNrHm"
      },
      "source": [
        "# Rotten Tomatoes Movie Review Analysis"
      ]
    },
    {
      "cell_type": "markdown",
      "metadata": {
        "id": "2TyqBVeiNrHo"
      },
      "source": [
        "## Goals"
      ]
    },
    {
      "cell_type": "markdown",
      "metadata": {
        "id": "hqGGBo4BNrHp"
      },
      "source": [
        ""
      ]
    },
    {
      "cell_type": "markdown",
      "metadata": {
        "id": "uZgvMVzUNrHq"
      },
      "source": [
        "## Getting the Data"
      ]
    },
    {
      "cell_type": "markdown",
      "metadata": {
        "id": "ZPf6wqyMNrHq"
      },
      "source": [
        "Well to start off, we need to get the data off of Rotten Tomatoes to analyze. At the minimum, we should try and get the movie name, genre, reviewer name, reviewer score, and audience score. This should let us get a good start to achieving our goals.\n",
        "\n",
        "Luckily for us, a kind soul on kaggle has already gone through the trouble of scraping movie and reviewer data off of Rotten Tomatoes! We can go ahead and download the dataset in CSV from the following link: https://www.kaggle.com/stefanoleone992/rotten-tomatoes-movies-and-critic-reviews-dataset\n",
        "\n",
        "The data contains two CSV files, one covering critic reviews and the other covering movie information. \n",
        "Also of note is that the dataset is CC0: Public Domain which means we can use it however we like.\n",
        "\n",
        "This will save us the time of having to manually collect and aggregate the data ourselves. Unfortunately this does come with some downsides:\n",
        "1. The data has been run on 10-31-2020 and if we want to update it, we'll have to scrape it again ourselves.\n",
        "2. The uploader specified that the scrape took several days and because of this may have some inconsistencies in the score aggregates for some movies due to reviews being posted as the program runs.\n",
        "    \n",
        "With that in mind, let's go ahead and read the two files using pandas and store it in a dataframe for analysis."
      ]
    },
    {
      "cell_type": "code",
      "metadata": {
        "id": "mHUHZr5fNrHr"
      },
      "source": [
        "import pandas as pd\n",
        "\n",
        "criticdf = pd.read_csv(r'rotten_tomatoes_critic_reviews.csv')\n",
        "moviedf = pd.read_csv(r'rotten_tomatoes_movies.csv')"
      ],
      "execution_count": null,
      "outputs": []
    },
    {
      "cell_type": "markdown",
      "metadata": {
        "id": "t8BAhiOdNrHs"
      },
      "source": [
        "## Initial Observations"
      ]
    },
    {
      "cell_type": "markdown",
      "metadata": {
        "id": "r_-MWMmCNrHs"
      },
      "source": [
        "Alright, now we have them both in an easily editable and analyzable format. Let's take a quick look at them both:"
      ]
    },
    {
      "cell_type": "markdown",
      "metadata": {
        "id": "W1kJNY9MNrHt"
      },
      "source": [
        "## Critic Dataset"
      ]
    },
    {
      "cell_type": "code",
      "metadata": {
        "id": "hsnMCvMdNrHt",
        "outputId": "eedc694a-c368-477c-d4ae-4fe489bc08ba"
      },
      "source": [
        "criticdf.head()"
      ],
      "execution_count": null,
      "outputs": [
        {
          "output_type": "execute_result",
          "data": {
            "text/html": [
              "<div>\n",
              "<style scoped>\n",
              "    .dataframe tbody tr th:only-of-type {\n",
              "        vertical-align: middle;\n",
              "    }\n",
              "\n",
              "    .dataframe tbody tr th {\n",
              "        vertical-align: top;\n",
              "    }\n",
              "\n",
              "    .dataframe thead th {\n",
              "        text-align: right;\n",
              "    }\n",
              "</style>\n",
              "<table border=\"1\" class=\"dataframe\">\n",
              "  <thead>\n",
              "    <tr style=\"text-align: right;\">\n",
              "      <th></th>\n",
              "      <th>rotten_tomatoes_link</th>\n",
              "      <th>critic_name</th>\n",
              "      <th>top_critic</th>\n",
              "      <th>publisher_name</th>\n",
              "      <th>review_type</th>\n",
              "      <th>review_score</th>\n",
              "      <th>review_date</th>\n",
              "      <th>review_content</th>\n",
              "    </tr>\n",
              "  </thead>\n",
              "  <tbody>\n",
              "    <tr>\n",
              "      <th>0</th>\n",
              "      <td>m/0814255</td>\n",
              "      <td>Andrew L. Urban</td>\n",
              "      <td>False</td>\n",
              "      <td>Urban Cinefile</td>\n",
              "      <td>Fresh</td>\n",
              "      <td>NaN</td>\n",
              "      <td>2010-02-06</td>\n",
              "      <td>A fantasy adventure that fuses Greek mythology...</td>\n",
              "    </tr>\n",
              "    <tr>\n",
              "      <th>1</th>\n",
              "      <td>m/0814255</td>\n",
              "      <td>Louise Keller</td>\n",
              "      <td>False</td>\n",
              "      <td>Urban Cinefile</td>\n",
              "      <td>Fresh</td>\n",
              "      <td>NaN</td>\n",
              "      <td>2010-02-06</td>\n",
              "      <td>Uma Thurman as Medusa, the gorgon with a coiff...</td>\n",
              "    </tr>\n",
              "    <tr>\n",
              "      <th>2</th>\n",
              "      <td>m/0814255</td>\n",
              "      <td>NaN</td>\n",
              "      <td>False</td>\n",
              "      <td>FILMINK (Australia)</td>\n",
              "      <td>Fresh</td>\n",
              "      <td>NaN</td>\n",
              "      <td>2010-02-09</td>\n",
              "      <td>With a top-notch cast and dazzling special eff...</td>\n",
              "    </tr>\n",
              "    <tr>\n",
              "      <th>3</th>\n",
              "      <td>m/0814255</td>\n",
              "      <td>Ben McEachen</td>\n",
              "      <td>False</td>\n",
              "      <td>Sunday Mail (Australia)</td>\n",
              "      <td>Fresh</td>\n",
              "      <td>3.5/5</td>\n",
              "      <td>2010-02-09</td>\n",
              "      <td>Whether audiences will get behind The Lightnin...</td>\n",
              "    </tr>\n",
              "    <tr>\n",
              "      <th>4</th>\n",
              "      <td>m/0814255</td>\n",
              "      <td>Ethan Alter</td>\n",
              "      <td>True</td>\n",
              "      <td>Hollywood Reporter</td>\n",
              "      <td>Rotten</td>\n",
              "      <td>NaN</td>\n",
              "      <td>2010-02-10</td>\n",
              "      <td>What's really lacking in The Lightning Thief i...</td>\n",
              "    </tr>\n",
              "  </tbody>\n",
              "</table>\n",
              "</div>"
            ],
            "text/plain": [
              "  rotten_tomatoes_link      critic_name  top_critic           publisher_name  \\\n",
              "0            m/0814255  Andrew L. Urban       False           Urban Cinefile   \n",
              "1            m/0814255    Louise Keller       False           Urban Cinefile   \n",
              "2            m/0814255              NaN       False      FILMINK (Australia)   \n",
              "3            m/0814255     Ben McEachen       False  Sunday Mail (Australia)   \n",
              "4            m/0814255      Ethan Alter        True       Hollywood Reporter   \n",
              "\n",
              "  review_type review_score review_date  \\\n",
              "0       Fresh          NaN  2010-02-06   \n",
              "1       Fresh          NaN  2010-02-06   \n",
              "2       Fresh          NaN  2010-02-09   \n",
              "3       Fresh        3.5/5  2010-02-09   \n",
              "4      Rotten          NaN  2010-02-10   \n",
              "\n",
              "                                      review_content  \n",
              "0  A fantasy adventure that fuses Greek mythology...  \n",
              "1  Uma Thurman as Medusa, the gorgon with a coiff...  \n",
              "2  With a top-notch cast and dazzling special eff...  \n",
              "3  Whether audiences will get behind The Lightnin...  \n",
              "4  What's really lacking in The Lightning Thief i...  "
            ]
          },
          "metadata": {
            "tags": []
          },
          "execution_count": 2
        }
      ]
    },
    {
      "cell_type": "code",
      "metadata": {
        "id": "qA8N4xNrNrHu",
        "outputId": "eaf4512a-a025-4511-d0ea-1607591e791f"
      },
      "source": [
        "criticdf.describe()"
      ],
      "execution_count": null,
      "outputs": [
        {
          "output_type": "execute_result",
          "data": {
            "text/html": [
              "<div>\n",
              "<style scoped>\n",
              "    .dataframe tbody tr th:only-of-type {\n",
              "        vertical-align: middle;\n",
              "    }\n",
              "\n",
              "    .dataframe tbody tr th {\n",
              "        vertical-align: top;\n",
              "    }\n",
              "\n",
              "    .dataframe thead th {\n",
              "        text-align: right;\n",
              "    }\n",
              "</style>\n",
              "<table border=\"1\" class=\"dataframe\">\n",
              "  <thead>\n",
              "    <tr style=\"text-align: right;\">\n",
              "      <th></th>\n",
              "      <th>rotten_tomatoes_link</th>\n",
              "      <th>critic_name</th>\n",
              "      <th>top_critic</th>\n",
              "      <th>publisher_name</th>\n",
              "      <th>review_type</th>\n",
              "      <th>review_score</th>\n",
              "      <th>review_date</th>\n",
              "      <th>review_content</th>\n",
              "    </tr>\n",
              "  </thead>\n",
              "  <tbody>\n",
              "    <tr>\n",
              "      <th>count</th>\n",
              "      <td>1130017</td>\n",
              "      <td>1111488</td>\n",
              "      <td>1130017</td>\n",
              "      <td>1130017</td>\n",
              "      <td>1130017</td>\n",
              "      <td>824081</td>\n",
              "      <td>1130017</td>\n",
              "      <td>1064211</td>\n",
              "    </tr>\n",
              "    <tr>\n",
              "      <th>unique</th>\n",
              "      <td>17712</td>\n",
              "      <td>11108</td>\n",
              "      <td>2</td>\n",
              "      <td>2230</td>\n",
              "      <td>2</td>\n",
              "      <td>814</td>\n",
              "      <td>8015</td>\n",
              "      <td>949181</td>\n",
              "    </tr>\n",
              "    <tr>\n",
              "      <th>top</th>\n",
              "      <td>m/star_wars_the_rise_of_skywalker</td>\n",
              "      <td>Emanuel Levy</td>\n",
              "      <td>False</td>\n",
              "      <td>New York Times</td>\n",
              "      <td>Fresh</td>\n",
              "      <td>3/5</td>\n",
              "      <td>2000-01-01</td>\n",
              "      <td>Parental Content Review</td>\n",
              "    </tr>\n",
              "    <tr>\n",
              "      <th>freq</th>\n",
              "      <td>992</td>\n",
              "      <td>8173</td>\n",
              "      <td>841481</td>\n",
              "      <td>13293</td>\n",
              "      <td>720210</td>\n",
              "      <td>90273</td>\n",
              "      <td>48019</td>\n",
              "      <td>267</td>\n",
              "    </tr>\n",
              "  </tbody>\n",
              "</table>\n",
              "</div>"
            ],
            "text/plain": [
              "                     rotten_tomatoes_link   critic_name top_critic  \\\n",
              "count                             1130017       1111488    1130017   \n",
              "unique                              17712         11108          2   \n",
              "top     m/star_wars_the_rise_of_skywalker  Emanuel Levy      False   \n",
              "freq                                  992          8173     841481   \n",
              "\n",
              "        publisher_name review_type review_score review_date  \\\n",
              "count          1130017     1130017       824081     1130017   \n",
              "unique            2230           2          814        8015   \n",
              "top     New York Times       Fresh          3/5  2000-01-01   \n",
              "freq             13293      720210        90273       48019   \n",
              "\n",
              "                 review_content  \n",
              "count                   1064211  \n",
              "unique                   949181  \n",
              "top     Parental Content Review  \n",
              "freq                        267  "
            ]
          },
          "metadata": {
            "tags": []
          },
          "execution_count": 3
        }
      ]
    },
    {
      "cell_type": "markdown",
      "metadata": {
        "id": "SnMVntruNrHv"
      },
      "source": [
        "Okay, the critic data seems pretty self explanatory, we have a movie link that corresponds to a specific movie, the critic's name/publisher, the review score, whether the review was fresh or rotten, whether the critic is considered top or not, the review date, and the actual content of the review.\n",
        "\n",
        "We can use the movie link to join the movie database to get genre information for our genre analysis. We'll also probably want to create a unique id for critics combining name and publisher so reviewers with the same name aren't counted as one person. \n",
        "\n",
        "We could also probably drop the review date and content for this analysis, although it would definitely be an interesting project to run a sentiment analaysis on the content compared to the score or even see if the length of time from the movie air date to the review date is in any way coorelated to the score... Scope creep is a dangerous animal. \n",
        "\n",
        "The biggest issue with the dataset is not with the data itself, but rather with the way critics review movies. Just in the first five values alone, we only recieve a binary \"Fresh\" or \"Rotten\" rather than a scalar amount. In fact, let's get the number of different review scores that movies have gotten."
      ]
    },
    {
      "cell_type": "code",
      "metadata": {
        "id": "SmWuOTseNrHw",
        "outputId": "f37bd279-7318-46f9-c6c1-f0fa32e13573"
      },
      "source": [
        "criticdf['review_score'].value_counts()"
      ],
      "execution_count": null,
      "outputs": [
        {
          "output_type": "execute_result",
          "data": {
            "text/plain": [
              "3/5         90273\n",
              "4/5         83659\n",
              "3/4         72366\n",
              "2/5         60174\n",
              "2/4         47546\n",
              "            ...  \n",
              "9.50/20         1\n",
              "0.58/1          1\n",
              "6.89/10         1\n",
              "2.7/4           1\n",
              "8.458/10        1\n",
              "Name: review_score, Length: 814, dtype: int64"
            ]
          },
          "metadata": {
            "tags": []
          },
          "execution_count": 4
        }
      ]
    },
    {
      "cell_type": "markdown",
      "metadata": {
        "id": "eiEXHq2iNrHw"
      },
      "source": [
        "Wow, there are over 800 different ways that reviewers quantify movies. Who rates a movie 5.5542/10!? We'll need to get a way to standardize this across the board for all 1.13 million reviews. Okay, that's enough problems to conquer for the first dataset, let's take a look at the second."
      ]
    },
    {
      "cell_type": "markdown",
      "metadata": {
        "id": "FtFiRf8XNrHw"
      },
      "source": [
        "## Movie Dataset"
      ]
    },
    {
      "cell_type": "code",
      "metadata": {
        "id": "9zddAQklNrHx",
        "outputId": "bc26f4f1-952b-4bb3-d8d7-7d5491b05bee"
      },
      "source": [
        "moviedf.head()"
      ],
      "execution_count": null,
      "outputs": [
        {
          "output_type": "execute_result",
          "data": {
            "text/html": [
              "<div>\n",
              "<style scoped>\n",
              "    .dataframe tbody tr th:only-of-type {\n",
              "        vertical-align: middle;\n",
              "    }\n",
              "\n",
              "    .dataframe tbody tr th {\n",
              "        vertical-align: top;\n",
              "    }\n",
              "\n",
              "    .dataframe thead th {\n",
              "        text-align: right;\n",
              "    }\n",
              "</style>\n",
              "<table border=\"1\" class=\"dataframe\">\n",
              "  <thead>\n",
              "    <tr style=\"text-align: right;\">\n",
              "      <th></th>\n",
              "      <th>rotten_tomatoes_link</th>\n",
              "      <th>movie_title</th>\n",
              "      <th>movie_info</th>\n",
              "      <th>critics_consensus</th>\n",
              "      <th>content_rating</th>\n",
              "      <th>genres</th>\n",
              "      <th>directors</th>\n",
              "      <th>authors</th>\n",
              "      <th>actors</th>\n",
              "      <th>original_release_date</th>\n",
              "      <th>...</th>\n",
              "      <th>production_company</th>\n",
              "      <th>tomatometer_status</th>\n",
              "      <th>tomatometer_rating</th>\n",
              "      <th>tomatometer_count</th>\n",
              "      <th>audience_status</th>\n",
              "      <th>audience_rating</th>\n",
              "      <th>audience_count</th>\n",
              "      <th>tomatometer_top_critics_count</th>\n",
              "      <th>tomatometer_fresh_critics_count</th>\n",
              "      <th>tomatometer_rotten_critics_count</th>\n",
              "    </tr>\n",
              "  </thead>\n",
              "  <tbody>\n",
              "    <tr>\n",
              "      <th>0</th>\n",
              "      <td>m/0814255</td>\n",
              "      <td>Percy Jackson &amp; the Olympians: The Lightning T...</td>\n",
              "      <td>Always trouble-prone, the life of teenager Per...</td>\n",
              "      <td>Though it may seem like just another Harry Pot...</td>\n",
              "      <td>PG</td>\n",
              "      <td>Action &amp; Adventure, Comedy, Drama, Science Fic...</td>\n",
              "      <td>Chris Columbus</td>\n",
              "      <td>Craig Titley, Chris Columbus, Rick Riordan</td>\n",
              "      <td>Logan Lerman, Brandon T. Jackson, Alexandra Da...</td>\n",
              "      <td>2010-02-12</td>\n",
              "      <td>...</td>\n",
              "      <td>20th Century Fox</td>\n",
              "      <td>Rotten</td>\n",
              "      <td>49.0</td>\n",
              "      <td>149.0</td>\n",
              "      <td>Spilled</td>\n",
              "      <td>53.0</td>\n",
              "      <td>254421.0</td>\n",
              "      <td>43</td>\n",
              "      <td>73</td>\n",
              "      <td>76</td>\n",
              "    </tr>\n",
              "    <tr>\n",
              "      <th>1</th>\n",
              "      <td>m/0878835</td>\n",
              "      <td>Please Give</td>\n",
              "      <td>Kate (Catherine Keener) and her husband Alex (...</td>\n",
              "      <td>Nicole Holofcener's newest might seem slight i...</td>\n",
              "      <td>R</td>\n",
              "      <td>Comedy</td>\n",
              "      <td>Nicole Holofcener</td>\n",
              "      <td>Nicole Holofcener</td>\n",
              "      <td>Catherine Keener, Amanda Peet, Oliver Platt, R...</td>\n",
              "      <td>2010-04-30</td>\n",
              "      <td>...</td>\n",
              "      <td>Sony Pictures Classics</td>\n",
              "      <td>Certified-Fresh</td>\n",
              "      <td>87.0</td>\n",
              "      <td>142.0</td>\n",
              "      <td>Upright</td>\n",
              "      <td>64.0</td>\n",
              "      <td>11574.0</td>\n",
              "      <td>44</td>\n",
              "      <td>123</td>\n",
              "      <td>19</td>\n",
              "    </tr>\n",
              "    <tr>\n",
              "      <th>2</th>\n",
              "      <td>m/10</td>\n",
              "      <td>10</td>\n",
              "      <td>A successful, middle-aged Hollywood songwriter...</td>\n",
              "      <td>Blake Edwards' bawdy comedy may not score a pe...</td>\n",
              "      <td>R</td>\n",
              "      <td>Comedy, Romance</td>\n",
              "      <td>Blake Edwards</td>\n",
              "      <td>Blake Edwards</td>\n",
              "      <td>Dudley Moore, Bo Derek, Julie Andrews, Robert ...</td>\n",
              "      <td>1979-10-05</td>\n",
              "      <td>...</td>\n",
              "      <td>Waner Bros.</td>\n",
              "      <td>Fresh</td>\n",
              "      <td>67.0</td>\n",
              "      <td>24.0</td>\n",
              "      <td>Spilled</td>\n",
              "      <td>53.0</td>\n",
              "      <td>14684.0</td>\n",
              "      <td>2</td>\n",
              "      <td>16</td>\n",
              "      <td>8</td>\n",
              "    </tr>\n",
              "    <tr>\n",
              "      <th>3</th>\n",
              "      <td>m/1000013-12_angry_men</td>\n",
              "      <td>12 Angry Men (Twelve Angry Men)</td>\n",
              "      <td>Following the closing arguments in a murder tr...</td>\n",
              "      <td>Sidney Lumet's feature debut is a superbly wri...</td>\n",
              "      <td>NR</td>\n",
              "      <td>Classics, Drama</td>\n",
              "      <td>Sidney Lumet</td>\n",
              "      <td>Reginald Rose</td>\n",
              "      <td>Martin Balsam, John Fiedler, Lee J. Cobb, E.G....</td>\n",
              "      <td>1957-04-13</td>\n",
              "      <td>...</td>\n",
              "      <td>Criterion Collection</td>\n",
              "      <td>Certified-Fresh</td>\n",
              "      <td>100.0</td>\n",
              "      <td>54.0</td>\n",
              "      <td>Upright</td>\n",
              "      <td>97.0</td>\n",
              "      <td>105386.0</td>\n",
              "      <td>6</td>\n",
              "      <td>54</td>\n",
              "      <td>0</td>\n",
              "    </tr>\n",
              "    <tr>\n",
              "      <th>4</th>\n",
              "      <td>m/1000079-20000_leagues_under_the_sea</td>\n",
              "      <td>20,000 Leagues Under The Sea</td>\n",
              "      <td>In 1866, Professor Pierre M. Aronnax (Paul Luk...</td>\n",
              "      <td>One of Disney's finest live-action adventures,...</td>\n",
              "      <td>G</td>\n",
              "      <td>Action &amp; Adventure, Drama, Kids &amp; Family</td>\n",
              "      <td>Richard Fleischer</td>\n",
              "      <td>Earl Felton</td>\n",
              "      <td>James Mason, Kirk Douglas, Paul Lukas, Peter L...</td>\n",
              "      <td>1954-01-01</td>\n",
              "      <td>...</td>\n",
              "      <td>Disney</td>\n",
              "      <td>Fresh</td>\n",
              "      <td>89.0</td>\n",
              "      <td>27.0</td>\n",
              "      <td>Upright</td>\n",
              "      <td>74.0</td>\n",
              "      <td>68918.0</td>\n",
              "      <td>5</td>\n",
              "      <td>24</td>\n",
              "      <td>3</td>\n",
              "    </tr>\n",
              "  </tbody>\n",
              "</table>\n",
              "<p>5 rows × 22 columns</p>\n",
              "</div>"
            ],
            "text/plain": [
              "                    rotten_tomatoes_link  \\\n",
              "0                              m/0814255   \n",
              "1                              m/0878835   \n",
              "2                                   m/10   \n",
              "3                 m/1000013-12_angry_men   \n",
              "4  m/1000079-20000_leagues_under_the_sea   \n",
              "\n",
              "                                         movie_title  \\\n",
              "0  Percy Jackson & the Olympians: The Lightning T...   \n",
              "1                                        Please Give   \n",
              "2                                                 10   \n",
              "3                    12 Angry Men (Twelve Angry Men)   \n",
              "4                       20,000 Leagues Under The Sea   \n",
              "\n",
              "                                          movie_info  \\\n",
              "0  Always trouble-prone, the life of teenager Per...   \n",
              "1  Kate (Catherine Keener) and her husband Alex (...   \n",
              "2  A successful, middle-aged Hollywood songwriter...   \n",
              "3  Following the closing arguments in a murder tr...   \n",
              "4  In 1866, Professor Pierre M. Aronnax (Paul Luk...   \n",
              "\n",
              "                                   critics_consensus content_rating  \\\n",
              "0  Though it may seem like just another Harry Pot...             PG   \n",
              "1  Nicole Holofcener's newest might seem slight i...              R   \n",
              "2  Blake Edwards' bawdy comedy may not score a pe...              R   \n",
              "3  Sidney Lumet's feature debut is a superbly wri...             NR   \n",
              "4  One of Disney's finest live-action adventures,...              G   \n",
              "\n",
              "                                              genres          directors  \\\n",
              "0  Action & Adventure, Comedy, Drama, Science Fic...     Chris Columbus   \n",
              "1                                             Comedy  Nicole Holofcener   \n",
              "2                                    Comedy, Romance      Blake Edwards   \n",
              "3                                    Classics, Drama       Sidney Lumet   \n",
              "4           Action & Adventure, Drama, Kids & Family  Richard Fleischer   \n",
              "\n",
              "                                      authors  \\\n",
              "0  Craig Titley, Chris Columbus, Rick Riordan   \n",
              "1                           Nicole Holofcener   \n",
              "2                               Blake Edwards   \n",
              "3                               Reginald Rose   \n",
              "4                                 Earl Felton   \n",
              "\n",
              "                                              actors original_release_date  \\\n",
              "0  Logan Lerman, Brandon T. Jackson, Alexandra Da...            2010-02-12   \n",
              "1  Catherine Keener, Amanda Peet, Oliver Platt, R...            2010-04-30   \n",
              "2  Dudley Moore, Bo Derek, Julie Andrews, Robert ...            1979-10-05   \n",
              "3  Martin Balsam, John Fiedler, Lee J. Cobb, E.G....            1957-04-13   \n",
              "4  James Mason, Kirk Douglas, Paul Lukas, Peter L...            1954-01-01   \n",
              "\n",
              "   ...      production_company  tomatometer_status tomatometer_rating  \\\n",
              "0  ...        20th Century Fox              Rotten               49.0   \n",
              "1  ...  Sony Pictures Classics     Certified-Fresh               87.0   \n",
              "2  ...             Waner Bros.               Fresh               67.0   \n",
              "3  ...    Criterion Collection     Certified-Fresh              100.0   \n",
              "4  ...                  Disney               Fresh               89.0   \n",
              "\n",
              "  tomatometer_count  audience_status  audience_rating audience_count  \\\n",
              "0             149.0          Spilled             53.0       254421.0   \n",
              "1             142.0          Upright             64.0        11574.0   \n",
              "2              24.0          Spilled             53.0        14684.0   \n",
              "3              54.0          Upright             97.0       105386.0   \n",
              "4              27.0          Upright             74.0        68918.0   \n",
              "\n",
              "   tomatometer_top_critics_count  tomatometer_fresh_critics_count  \\\n",
              "0                             43                               73   \n",
              "1                             44                              123   \n",
              "2                              2                               16   \n",
              "3                              6                               54   \n",
              "4                              5                               24   \n",
              "\n",
              "   tomatometer_rotten_critics_count  \n",
              "0                                76  \n",
              "1                                19  \n",
              "2                                 8  \n",
              "3                                 0  \n",
              "4                                 3  \n",
              "\n",
              "[5 rows x 22 columns]"
            ]
          },
          "metadata": {
            "tags": []
          },
          "execution_count": 5
        }
      ]
    },
    {
      "cell_type": "code",
      "metadata": {
        "id": "uYhWsnd7NrHx",
        "outputId": "5c7119bc-69f9-425b-e178-1f8d455220ad"
      },
      "source": [
        "moviedf.describe()"
      ],
      "execution_count": null,
      "outputs": [
        {
          "output_type": "execute_result",
          "data": {
            "text/html": [
              "<div>\n",
              "<style scoped>\n",
              "    .dataframe tbody tr th:only-of-type {\n",
              "        vertical-align: middle;\n",
              "    }\n",
              "\n",
              "    .dataframe tbody tr th {\n",
              "        vertical-align: top;\n",
              "    }\n",
              "\n",
              "    .dataframe thead th {\n",
              "        text-align: right;\n",
              "    }\n",
              "</style>\n",
              "<table border=\"1\" class=\"dataframe\">\n",
              "  <thead>\n",
              "    <tr style=\"text-align: right;\">\n",
              "      <th></th>\n",
              "      <th>runtime</th>\n",
              "      <th>tomatometer_rating</th>\n",
              "      <th>tomatometer_count</th>\n",
              "      <th>audience_rating</th>\n",
              "      <th>audience_count</th>\n",
              "      <th>tomatometer_top_critics_count</th>\n",
              "      <th>tomatometer_fresh_critics_count</th>\n",
              "      <th>tomatometer_rotten_critics_count</th>\n",
              "    </tr>\n",
              "  </thead>\n",
              "  <tbody>\n",
              "    <tr>\n",
              "      <th>count</th>\n",
              "      <td>17398.000000</td>\n",
              "      <td>17668.000000</td>\n",
              "      <td>17668.000000</td>\n",
              "      <td>17416.000000</td>\n",
              "      <td>1.741500e+04</td>\n",
              "      <td>17712.000000</td>\n",
              "      <td>17712.000000</td>\n",
              "      <td>17712.000000</td>\n",
              "    </tr>\n",
              "    <tr>\n",
              "      <th>mean</th>\n",
              "      <td>102.214048</td>\n",
              "      <td>60.884763</td>\n",
              "      <td>57.139801</td>\n",
              "      <td>60.554260</td>\n",
              "      <td>1.439401e+05</td>\n",
              "      <td>14.586326</td>\n",
              "      <td>36.374831</td>\n",
              "      <td>20.703139</td>\n",
              "    </tr>\n",
              "    <tr>\n",
              "      <th>std</th>\n",
              "      <td>18.702511</td>\n",
              "      <td>28.443348</td>\n",
              "      <td>68.370047</td>\n",
              "      <td>20.543369</td>\n",
              "      <td>1.763577e+06</td>\n",
              "      <td>15.146349</td>\n",
              "      <td>52.601038</td>\n",
              "      <td>30.248435</td>\n",
              "    </tr>\n",
              "    <tr>\n",
              "      <th>min</th>\n",
              "      <td>5.000000</td>\n",
              "      <td>0.000000</td>\n",
              "      <td>5.000000</td>\n",
              "      <td>0.000000</td>\n",
              "      <td>5.000000e+00</td>\n",
              "      <td>0.000000</td>\n",
              "      <td>0.000000</td>\n",
              "      <td>0.000000</td>\n",
              "    </tr>\n",
              "    <tr>\n",
              "      <th>25%</th>\n",
              "      <td>90.000000</td>\n",
              "      <td>38.000000</td>\n",
              "      <td>12.000000</td>\n",
              "      <td>45.000000</td>\n",
              "      <td>7.075000e+02</td>\n",
              "      <td>3.000000</td>\n",
              "      <td>6.000000</td>\n",
              "      <td>3.000000</td>\n",
              "    </tr>\n",
              "    <tr>\n",
              "      <th>50%</th>\n",
              "      <td>99.000000</td>\n",
              "      <td>67.000000</td>\n",
              "      <td>28.000000</td>\n",
              "      <td>63.000000</td>\n",
              "      <td>4.277000e+03</td>\n",
              "      <td>8.000000</td>\n",
              "      <td>16.000000</td>\n",
              "      <td>8.000000</td>\n",
              "    </tr>\n",
              "    <tr>\n",
              "      <th>75%</th>\n",
              "      <td>111.000000</td>\n",
              "      <td>86.000000</td>\n",
              "      <td>75.000000</td>\n",
              "      <td>78.000000</td>\n",
              "      <td>2.498800e+04</td>\n",
              "      <td>23.000000</td>\n",
              "      <td>44.000000</td>\n",
              "      <td>24.000000</td>\n",
              "    </tr>\n",
              "    <tr>\n",
              "      <th>max</th>\n",
              "      <td>266.000000</td>\n",
              "      <td>100.000000</td>\n",
              "      <td>574.000000</td>\n",
              "      <td>100.000000</td>\n",
              "      <td>3.579764e+07</td>\n",
              "      <td>69.000000</td>\n",
              "      <td>497.000000</td>\n",
              "      <td>303.000000</td>\n",
              "    </tr>\n",
              "  </tbody>\n",
              "</table>\n",
              "</div>"
            ],
            "text/plain": [
              "            runtime  tomatometer_rating  tomatometer_count  audience_rating  \\\n",
              "count  17398.000000        17668.000000       17668.000000     17416.000000   \n",
              "mean     102.214048           60.884763          57.139801        60.554260   \n",
              "std       18.702511           28.443348          68.370047        20.543369   \n",
              "min        5.000000            0.000000           5.000000         0.000000   \n",
              "25%       90.000000           38.000000          12.000000        45.000000   \n",
              "50%       99.000000           67.000000          28.000000        63.000000   \n",
              "75%      111.000000           86.000000          75.000000        78.000000   \n",
              "max      266.000000          100.000000         574.000000       100.000000   \n",
              "\n",
              "       audience_count  tomatometer_top_critics_count  \\\n",
              "count    1.741500e+04                   17712.000000   \n",
              "mean     1.439401e+05                      14.586326   \n",
              "std      1.763577e+06                      15.146349   \n",
              "min      5.000000e+00                       0.000000   \n",
              "25%      7.075000e+02                       3.000000   \n",
              "50%      4.277000e+03                       8.000000   \n",
              "75%      2.498800e+04                      23.000000   \n",
              "max      3.579764e+07                      69.000000   \n",
              "\n",
              "       tomatometer_fresh_critics_count  tomatometer_rotten_critics_count  \n",
              "count                     17712.000000                      17712.000000  \n",
              "mean                         36.374831                         20.703139  \n",
              "std                          52.601038                         30.248435  \n",
              "min                           0.000000                          0.000000  \n",
              "25%                           6.000000                          3.000000  \n",
              "50%                          16.000000                          8.000000  \n",
              "75%                          44.000000                         24.000000  \n",
              "max                         497.000000                        303.000000  "
            ]
          },
          "metadata": {
            "tags": []
          },
          "execution_count": 6
        }
      ]
    },
    {
      "cell_type": "markdown",
      "metadata": {
        "id": "PoImB2BONrHx"
      },
      "source": [
        "Okay right away this looks like there's a lot of information we don't need for this analysis. The fields that we're most interested in are the audience score, genres, runtime, and content ratings. The rest would probably be too granular for this analysis. \n",
        "\n",
        "We also  won't bother with the critic scores since we'll be calculating them using the other dataset and there may be inconsistencies anyway. "
      ]
    },
    {
      "cell_type": "markdown",
      "metadata": {
        "id": "Q6ewmDWFNrHy"
      },
      "source": [
        "## Formating the data"
      ]
    },
    {
      "cell_type": "markdown",
      "metadata": {
        "id": "YUs6q5qTNrHy"
      },
      "source": [
        "Alright, let's go ahead and do some formatting based on the comments above. I'm going to go ahead and do this dirty and just edit the dataframes directly since this will likely be a one time analysis and the datasets are (relitively) small."
      ]
    },
    {
      "cell_type": "code",
      "metadata": {
        "id": "twEEAW2CNrHz"
      },
      "source": [
        "#Dropping the review date and review content since it's outside of scope\n",
        "criticdf = criticdf.drop(columns = ['review_date','review_content'])\n",
        "\n",
        "#Combining the critic and publisher name into a key then dropping the critic name\n",
        "#I'm currently keeping the publisher name to see if there are any publisher contrarians as well\n",
        "\n"
      ],
      "execution_count": null,
      "outputs": []
    },
    {
      "cell_type": "code",
      "metadata": {
        "id": "8wEgc0Z6NrHz",
        "outputId": "73387cf9-8563-457f-f50b-81dc814a1116"
      },
      "source": [
        "criticdf"
      ],
      "execution_count": null,
      "outputs": [
        {
          "output_type": "execute_result",
          "data": {
            "text/html": [
              "<div>\n",
              "<style scoped>\n",
              "    .dataframe tbody tr th:only-of-type {\n",
              "        vertical-align: middle;\n",
              "    }\n",
              "\n",
              "    .dataframe tbody tr th {\n",
              "        vertical-align: top;\n",
              "    }\n",
              "\n",
              "    .dataframe thead th {\n",
              "        text-align: right;\n",
              "    }\n",
              "</style>\n",
              "<table border=\"1\" class=\"dataframe\">\n",
              "  <thead>\n",
              "    <tr style=\"text-align: right;\">\n",
              "      <th></th>\n",
              "      <th>rotten_tomatoes_link</th>\n",
              "      <th>critic_name</th>\n",
              "      <th>top_critic</th>\n",
              "      <th>publisher_name</th>\n",
              "      <th>review_type</th>\n",
              "      <th>review_score</th>\n",
              "    </tr>\n",
              "  </thead>\n",
              "  <tbody>\n",
              "    <tr>\n",
              "      <th>0</th>\n",
              "      <td>m/0814255</td>\n",
              "      <td>Andrew L. Urban</td>\n",
              "      <td>False</td>\n",
              "      <td>Urban Cinefile</td>\n",
              "      <td>Fresh</td>\n",
              "      <td>NaN</td>\n",
              "    </tr>\n",
              "    <tr>\n",
              "      <th>1</th>\n",
              "      <td>m/0814255</td>\n",
              "      <td>Louise Keller</td>\n",
              "      <td>False</td>\n",
              "      <td>Urban Cinefile</td>\n",
              "      <td>Fresh</td>\n",
              "      <td>NaN</td>\n",
              "    </tr>\n",
              "    <tr>\n",
              "      <th>2</th>\n",
              "      <td>m/0814255</td>\n",
              "      <td>NaN</td>\n",
              "      <td>False</td>\n",
              "      <td>FILMINK (Australia)</td>\n",
              "      <td>Fresh</td>\n",
              "      <td>NaN</td>\n",
              "    </tr>\n",
              "    <tr>\n",
              "      <th>3</th>\n",
              "      <td>m/0814255</td>\n",
              "      <td>Ben McEachen</td>\n",
              "      <td>False</td>\n",
              "      <td>Sunday Mail (Australia)</td>\n",
              "      <td>Fresh</td>\n",
              "      <td>3.5/5</td>\n",
              "    </tr>\n",
              "    <tr>\n",
              "      <th>4</th>\n",
              "      <td>m/0814255</td>\n",
              "      <td>Ethan Alter</td>\n",
              "      <td>True</td>\n",
              "      <td>Hollywood Reporter</td>\n",
              "      <td>Rotten</td>\n",
              "      <td>NaN</td>\n",
              "    </tr>\n",
              "    <tr>\n",
              "      <th>...</th>\n",
              "      <td>...</td>\n",
              "      <td>...</td>\n",
              "      <td>...</td>\n",
              "      <td>...</td>\n",
              "      <td>...</td>\n",
              "      <td>...</td>\n",
              "    </tr>\n",
              "    <tr>\n",
              "      <th>1130012</th>\n",
              "      <td>m/zulu_dawn</td>\n",
              "      <td>Chuck O'Leary</td>\n",
              "      <td>False</td>\n",
              "      <td>Fantastica Daily</td>\n",
              "      <td>Rotten</td>\n",
              "      <td>2/5</td>\n",
              "    </tr>\n",
              "    <tr>\n",
              "      <th>1130013</th>\n",
              "      <td>m/zulu_dawn</td>\n",
              "      <td>Ken Hanke</td>\n",
              "      <td>False</td>\n",
              "      <td>Mountain Xpress (Asheville, NC)</td>\n",
              "      <td>Fresh</td>\n",
              "      <td>3.5/5</td>\n",
              "    </tr>\n",
              "    <tr>\n",
              "      <th>1130014</th>\n",
              "      <td>m/zulu_dawn</td>\n",
              "      <td>Dennis Schwartz</td>\n",
              "      <td>False</td>\n",
              "      <td>Dennis Schwartz Movie Reviews</td>\n",
              "      <td>Fresh</td>\n",
              "      <td>B+</td>\n",
              "    </tr>\n",
              "    <tr>\n",
              "      <th>1130015</th>\n",
              "      <td>m/zulu_dawn</td>\n",
              "      <td>Christopher Lloyd</td>\n",
              "      <td>False</td>\n",
              "      <td>Sarasota Herald-Tribune</td>\n",
              "      <td>Rotten</td>\n",
              "      <td>3.5/5</td>\n",
              "    </tr>\n",
              "    <tr>\n",
              "      <th>1130016</th>\n",
              "      <td>m/zulu_dawn</td>\n",
              "      <td>Brent McKnight</td>\n",
              "      <td>False</td>\n",
              "      <td>The Last Thing I See</td>\n",
              "      <td>Rotten</td>\n",
              "      <td>C</td>\n",
              "    </tr>\n",
              "  </tbody>\n",
              "</table>\n",
              "<p>1130017 rows × 6 columns</p>\n",
              "</div>"
            ],
            "text/plain": [
              "        rotten_tomatoes_link        critic_name  top_critic  \\\n",
              "0                  m/0814255    Andrew L. Urban       False   \n",
              "1                  m/0814255      Louise Keller       False   \n",
              "2                  m/0814255                NaN       False   \n",
              "3                  m/0814255       Ben McEachen       False   \n",
              "4                  m/0814255        Ethan Alter        True   \n",
              "...                      ...                ...         ...   \n",
              "1130012          m/zulu_dawn      Chuck O'Leary       False   \n",
              "1130013          m/zulu_dawn          Ken Hanke       False   \n",
              "1130014          m/zulu_dawn    Dennis Schwartz       False   \n",
              "1130015          m/zulu_dawn  Christopher Lloyd       False   \n",
              "1130016          m/zulu_dawn     Brent McKnight       False   \n",
              "\n",
              "                          publisher_name review_type review_score  \n",
              "0                         Urban Cinefile       Fresh          NaN  \n",
              "1                         Urban Cinefile       Fresh          NaN  \n",
              "2                    FILMINK (Australia)       Fresh          NaN  \n",
              "3                Sunday Mail (Australia)       Fresh        3.5/5  \n",
              "4                     Hollywood Reporter      Rotten          NaN  \n",
              "...                                  ...         ...          ...  \n",
              "1130012                 Fantastica Daily      Rotten          2/5  \n",
              "1130013  Mountain Xpress (Asheville, NC)       Fresh        3.5/5  \n",
              "1130014    Dennis Schwartz Movie Reviews       Fresh           B+  \n",
              "1130015          Sarasota Herald-Tribune      Rotten        3.5/5  \n",
              "1130016             The Last Thing I See      Rotten            C  \n",
              "\n",
              "[1130017 rows x 6 columns]"
            ]
          },
          "metadata": {
            "tags": []
          },
          "execution_count": 8
        }
      ]
    },
    {
      "cell_type": "markdown",
      "metadata": {
        "id": "iduE9QHLNrHz"
      },
      "source": [
        "## Searching for Contrarians"
      ]
    },
    {
      "cell_type": "markdown",
      "metadata": {
        "id": "AiRZXe4wNrH0"
      },
      "source": [
        ""
      ]
    },
    {
      "cell_type": "markdown",
      "metadata": {
        "id": "tF20nbmXNrH0"
      },
      "source": [
        "## Finding movies that audiences and reviewers disagree on"
      ]
    },
    {
      "cell_type": "markdown",
      "metadata": {
        "id": "7Sz5gIcBNrH0"
      },
      "source": [
        ""
      ]
    },
    {
      "cell_type": "markdown",
      "metadata": {
        "id": "5ormR6mcNrH1"
      },
      "source": [
        "## Finding reviewers that hate certain genres"
      ]
    },
    {
      "cell_type": "markdown",
      "metadata": {
        "id": "GiXjxHyvNrH1"
      },
      "source": [
        ""
      ]
    },
    {
      "cell_type": "markdown",
      "metadata": {
        "id": "aKxLiL6BNrH1"
      },
      "source": [
        "## Final Summarization"
      ]
    },
    {
      "cell_type": "markdown",
      "metadata": {
        "id": "CgGbKfh-NrH1"
      },
      "source": [
        ""
      ]
    }
  ]
}